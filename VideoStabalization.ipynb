{
 "cells": [
  {
   "cell_type": "markdown",
   "metadata": {},
   "source": [
    "# thomas for medical video processing\n",
    "# 2019-02-25\n",
    "# This should be running in Python 3.5 "
   ]
  },
  {
   "cell_type": "code",
   "execution_count": 3,
   "metadata": {},
   "outputs": [
    {
     "ename": "ImportError",
     "evalue": "No module named 'ConfigParser'",
     "output_type": "error",
     "traceback": [
      "\u001b[0;31m---------------------------------------------------------------------------\u001b[0m",
      "\u001b[0;31mImportError\u001b[0m                               Traceback (most recent call last)",
      "\u001b[0;32m<ipython-input-3-b38ca28aa05c>\u001b[0m in \u001b[0;36m<module>\u001b[0;34m\u001b[0m\n\u001b[1;32m     12\u001b[0m \u001b[0mget_ipython\u001b[0m\u001b[0;34m(\u001b[0m\u001b[0;34m)\u001b[0m\u001b[0;34m.\u001b[0m\u001b[0mrun_line_magic\u001b[0m\u001b[0;34m(\u001b[0m\u001b[0;34m'matplotlib'\u001b[0m\u001b[0;34m,\u001b[0m \u001b[0;34m'inline'\u001b[0m\u001b[0;34m)\u001b[0m\u001b[0;34m\u001b[0m\u001b[0m\n\u001b[1;32m     13\u001b[0m \u001b[0;32mfrom\u001b[0m \u001b[0mshutil\u001b[0m \u001b[0;32mimport\u001b[0m \u001b[0mcopyfile\u001b[0m\u001b[0;34m\u001b[0m\u001b[0m\n\u001b[0;32m---> 14\u001b[0;31m \u001b[0;32mimport\u001b[0m \u001b[0mConfigParser\u001b[0m\u001b[0;34m\u001b[0m\u001b[0m\n\u001b[0m\u001b[1;32m     15\u001b[0m \u001b[0;32mimport\u001b[0m \u001b[0mcv2\u001b[0m\u001b[0;34m\u001b[0m\u001b[0m\n\u001b[1;32m     16\u001b[0m \u001b[0;32mfrom\u001b[0m \u001b[0mmoviepy\u001b[0m\u001b[0;34m.\u001b[0m\u001b[0meditor\u001b[0m \u001b[0;32mimport\u001b[0m \u001b[0mVideoFileClip\u001b[0m\u001b[0;34m\u001b[0m\u001b[0m\n",
      "\u001b[0;31mImportError\u001b[0m: No module named 'ConfigParser'"
     ]
    }
   ],
   "source": [
    "#########################################\n",
    "# Step 1: get each frame of the video\n",
    "# Todo: Change the name of target video path : 20190306120335\n",
    "# path_video = /home/bibo/Data/Vessel/videos/20190306120335.avi   # input video\n",
    "# path_local_oriimgs = /home/bibo/Data/Vessel/20190306120335/images/  # output frames\n",
    "# path_local_orimasks = /home/bibo/Data/Vessel/20190306120335/masks/  # output frames\n",
    "#\n",
    "#########################################\n",
    "from matplotlib import pyplot as plt\n",
    "import matplotlib\n",
    "import os\n",
    "%matplotlib inline\n",
    "from shutil import copyfile \n",
    "import ConfigParser\n",
    "import cv2\n",
    "from moviepy.editor import VideoFileClip\n",
    "from scipy.misc import imsave\n",
    "\n",
    "config = ConfigParser.RawConfigParser()\n",
    "config.readfp(open(r'./retina-unet/configuration.txt'))\n",
    "path_video = config.get('recognition settings', 'path_video')\n",
    "saveimgroot = config.get('recognition settings', 'path_local_oriimgs')\n",
    "savemaskroot = config.get('recognition settings', 'path_local_orimasks')\n",
    "standardmask = config.get('recognition settings', 'path_standardmask')\n",
    "\n",
    "image_height = int(config.get('recognition settings', 'image_height')) # 584\n",
    "image_width = int(config.get('recognition settings', 'image_width'))   # 565\n",
    "\n",
    "if not os.path.exists(saveimgroot):\n",
    "    os.makedirs(saveimgroot)\n",
    "if not os.path.exists(savemaskroot):\n",
    "    os.makedirs(savemaskroot)\n",
    "\n",
    "clip = VideoFileClip(path_video) \n",
    "count =1\n",
    "for frames in clip.iter_frames():\n",
    "#     backtorgb = cv2.cvtColor(gray,cv2.COLOR_GRAY2RGB)\n",
    "#     gray_frames = cv2.cvtColor(frames, cv2.COLOR_RGB2GRAY)\n",
    "    frames_new = cv2.resize(frames,(image_width,image_height))\n",
    "    imsave(saveimgroot + str(count)+'.tif', frames_new)\n",
    "    dstmask = savemaskroot + str(count) + '.tif'\n",
    "    copyfile(standardmask, dstmask) # save masks\n",
    "#     print frames.shape\n",
    "#     print gray_frames.shape\n",
    "    count+=1\n",
    "print('full_images_to_recog = '+str(count-1));"
   ]
  },
  {
   "cell_type": "code",
   "execution_count": null,
   "metadata": {},
   "outputs": [],
   "source": []
  },
  {
   "cell_type": "code",
   "execution_count": 2,
   "metadata": {},
   "outputs": [],
   "source": [
    "from vidstab import VidStab\n",
    "\n",
    "input_video = '20190215085036.avi'\n",
    "\n",
    "# Using defaults\n",
    "stabilizer = VidStab()\n",
    "stabilizer.stabilize(input_path=input_video, output_path='20190215085036_stable_video_1.avi')\n",
    "\n",
    "# Using a specific keypoint detector\n",
    "stabilizer = VidStab(kp_method='ORB')\n",
    "stabilizer.stabilize(input_path=input_video, output_path='20190215085036_stable_video_2.avi')\n",
    "\n",
    "# Using a specific keypoint detector and customizing keypoint parameters\n",
    "stabilizer = VidStab(kp_method='FAST', threshold=42, nonmaxSuppression=False)\n",
    "stabilizer.stabilize(input_path=input_video, output_path='20190215085036_stable_video_3.avi')"
   ]
  }
 ],
 "metadata": {
  "kernelspec": {
   "display_name": "Python 3",
   "language": "python",
   "name": "python3"
  },
  "language_info": {
   "codemirror_mode": {
    "name": "ipython",
    "version": 3
   },
   "file_extension": ".py",
   "mimetype": "text/x-python",
   "name": "python",
   "nbconvert_exporter": "python",
   "pygments_lexer": "ipython3",
   "version": "3.5.2"
  }
 },
 "nbformat": 4,
 "nbformat_minor": 2
}
